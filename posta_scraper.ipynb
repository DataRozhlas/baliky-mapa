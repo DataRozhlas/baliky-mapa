{
 "cells": [
  {
   "cell_type": "code",
   "execution_count": null,
   "metadata": {},
   "outputs": [],
   "source": [
    "import pandas as pd\n",
    "import requests\n",
    "from bs4 import BeautifulSoup"
   ]
  },
  {
   "cell_type": "code",
   "execution_count": null,
   "metadata": {},
   "outputs": [],
   "source": [
    "track = pd.read_excel('./baliky.xlsx')"
   ]
  },
  {
   "cell_type": "code",
   "execution_count": null,
   "metadata": {},
   "outputs": [],
   "source": [
    "cpost = dict(zip(track[track.provider == 'posta'].tracking, track[track.provider == 'posta'].route))"
   ]
  },
  {
   "cell_type": "code",
   "execution_count": null,
   "metadata": {},
   "outputs": [],
   "source": [
    "data = pd.DataFrame()\n",
    "\n",
    "for tr in cpost:\n",
    "    print(tr)\n",
    "    r = requests.get('https://www.postaonline.cz/trackandtrace/-/zasilka/cislo?parcelNumbers=+' + tr + '+')\n",
    "    soup = BeautifulSoup(r.text, 'html.parser')\n",
    "    for row in soup.find_all('table', class_='datatable2')[1].find_all('tr'):\n",
    "        recs = row.find_all('td')\n",
    "        if len(recs) > 0:\n",
    "            try:\n",
    "                url = recs[3].find('a').get('href')\n",
    "            except:\n",
    "                url = None\n",
    "            data = data.append({\n",
    "                'tracking': tr,\n",
    "                'date': recs[0].text, \n",
    "                'status': recs[1].text, \n",
    "                'psc': recs[2].text,\n",
    "                'place_name': recs[3].text,\n",
    "                'place_url': url\n",
    "            },ignore_index=True)"
   ]
  },
  {
   "cell_type": "code",
   "execution_count": null,
   "metadata": {},
   "outputs": [],
   "source": [
    "data['addr'] = None"
   ]
  },
  {
   "cell_type": "code",
   "execution_count": null,
   "metadata": {},
   "outputs": [],
   "source": [
    "for i, row in data.iterrows():\n",
    "    if row[2] != None:\n",
    "        r = requests.get(row[2])\n",
    "        soup = BeautifulSoup(r.text, 'html.parser')\n",
    "        addr = soup.find('div', class_='infoCardContent').find('div', class_='span12').find('p')\n",
    "        data.ix[i].addr = addr"
   ]
  },
  {
   "cell_type": "code",
   "execution_count": null,
   "metadata": {},
   "outputs": [],
   "source": [
    "def cln(val):\n",
    "    val = str(val)\n",
    "    if val == val:\n",
    "        return val.replace('<p>', '').replace('</p>', '').replace('<br/>', ', ')\n",
    "    else:\n",
    "        return None\n",
    "\n",
    "data.addr = data.addr.apply(lambda x: cln(x))"
   ]
  },
  {
   "cell_type": "code",
   "execution_count": null,
   "metadata": {},
   "outputs": [],
   "source": [
    "data.to_excel('./tracking.xlsx', index=False)"
   ]
  }
 ],
 "metadata": {
  "kernelspec": {
   "display_name": "Python 3",
   "language": "python",
   "name": "python3"
  },
  "language_info": {
   "codemirror_mode": {
    "name": "ipython",
    "version": 3
   },
   "file_extension": ".py",
   "mimetype": "text/x-python",
   "name": "python",
   "nbconvert_exporter": "python",
   "pygments_lexer": "ipython3",
   "version": "3.6.3"
  }
 },
 "nbformat": 4,
 "nbformat_minor": 2
}
